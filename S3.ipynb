{
 "cells": [
  {
   "cell_type": "code",
   "execution_count": 3,
   "metadata": {},
   "outputs": [],
   "source": [
    "import numpy as np\n",
    "import pandas as pd\n",
    "import matplotlib.pyplot as plt\n",
    "from scipy.stats import chi2_contingency, linregress\n",
    "from datetime import date"
   ]
  },
  {
   "cell_type": "code",
   "execution_count": 4,
   "metadata": {},
   "outputs": [
    {
     "name": "stderr",
     "output_type": "stream",
     "text": [
      "/Users/Strawberry/anaconda3/lib/python3.7/site-packages/IPython/core/interactiveshell.py:3049: DtypeWarning: Columns (9,10) have mixed types. Specify dtype option on import or set low_memory=False.\n",
      "  interactivity=interactivity, compiler=compiler, result=result)\n"
     ]
    },
    {
     "data": {
      "text/html": [
       "<div>\n",
       "<style scoped>\n",
       "    .dataframe tbody tr th:only-of-type {\n",
       "        vertical-align: middle;\n",
       "    }\n",
       "\n",
       "    .dataframe tbody tr th {\n",
       "        vertical-align: top;\n",
       "    }\n",
       "\n",
       "    .dataframe thead th {\n",
       "        text-align: right;\n",
       "    }\n",
       "</style>\n",
       "<table border=\"1\" class=\"dataframe\">\n",
       "  <thead>\n",
       "    <tr style=\"text-align: right;\">\n",
       "      <th></th>\n",
       "      <th>dataset_id</th>\n",
       "      <th>date</th>\n",
       "      <th>company_name</th>\n",
       "      <th>followers_count</th>\n",
       "      <th>employees_on_platform</th>\n",
       "      <th>link</th>\n",
       "      <th>industry</th>\n",
       "      <th>date_added</th>\n",
       "      <th>date_updated</th>\n",
       "      <th>description</th>\n",
       "      <th>website</th>\n",
       "      <th>entity_id</th>\n",
       "      <th>cusip</th>\n",
       "      <th>isin</th>\n",
       "    </tr>\n",
       "  </thead>\n",
       "  <tbody>\n",
       "    <tr>\n",
       "      <th>0</th>\n",
       "      <td>58329</td>\n",
       "      <td>2015-09-14</td>\n",
       "      <td>Goldman Sachs</td>\n",
       "      <td>552254</td>\n",
       "      <td>38124</td>\n",
       "      <td>https://www.linkedin.com/company/1382</td>\n",
       "      <td>Investment Banking</td>\n",
       "      <td>2015-09-14 00:00:00+00</td>\n",
       "      <td>2015-09-14 00:00:00+00</td>\n",
       "      <td>NaN</td>\n",
       "      <td>NaN</td>\n",
       "      <td>NaN</td>\n",
       "      <td>NaN</td>\n",
       "      <td>NaN</td>\n",
       "    </tr>\n",
       "    <tr>\n",
       "      <th>1</th>\n",
       "      <td>58329</td>\n",
       "      <td>2015-09-15</td>\n",
       "      <td>Goldman Sachs</td>\n",
       "      <td>552862</td>\n",
       "      <td>38141</td>\n",
       "      <td>https://www.linkedin.com/company/1382</td>\n",
       "      <td>Investment Banking</td>\n",
       "      <td>2015-09-15 00:00:00+00</td>\n",
       "      <td>2015-09-15 00:00:00+00</td>\n",
       "      <td>NaN</td>\n",
       "      <td>NaN</td>\n",
       "      <td>NaN</td>\n",
       "      <td>NaN</td>\n",
       "      <td>NaN</td>\n",
       "    </tr>\n",
       "    <tr>\n",
       "      <th>2</th>\n",
       "      <td>58363</td>\n",
       "      <td>2015-09-16</td>\n",
       "      <td>United Technologies</td>\n",
       "      <td>59157</td>\n",
       "      <td>14982</td>\n",
       "      <td>https://www.linkedin.com/company/2426</td>\n",
       "      <td>Aviation &amp; Aerospace</td>\n",
       "      <td>2015-09-16 00:00:00+00</td>\n",
       "      <td>2015-09-16 00:00:00+00</td>\n",
       "      <td>NaN</td>\n",
       "      <td>NaN</td>\n",
       "      <td>NaN</td>\n",
       "      <td>NaN</td>\n",
       "      <td>NaN</td>\n",
       "    </tr>\n",
       "    <tr>\n",
       "      <th>3</th>\n",
       "      <td>58366</td>\n",
       "      <td>2015-09-16</td>\n",
       "      <td>Novo Nordisk</td>\n",
       "      <td>336175</td>\n",
       "      <td>26448</td>\n",
       "      <td>https://www.linkedin.com/company/2227</td>\n",
       "      <td>Pharmaceuticals</td>\n",
       "      <td>2015-09-16 00:00:00+00</td>\n",
       "      <td>2015-09-16 00:00:00+00</td>\n",
       "      <td>NaN</td>\n",
       "      <td>NaN</td>\n",
       "      <td>NaN</td>\n",
       "      <td>NaN</td>\n",
       "      <td>NaN</td>\n",
       "    </tr>\n",
       "    <tr>\n",
       "      <th>4</th>\n",
       "      <td>58371</td>\n",
       "      <td>2015-09-16</td>\n",
       "      <td>Lowe's Companies, Inc.</td>\n",
       "      <td>134255</td>\n",
       "      <td>62574</td>\n",
       "      <td>https://www.linkedin.com/company/4128</td>\n",
       "      <td>Retail</td>\n",
       "      <td>2015-09-16 00:00:00+00</td>\n",
       "      <td>2015-09-16 00:00:00+00</td>\n",
       "      <td>NaN</td>\n",
       "      <td>NaN</td>\n",
       "      <td>NaN</td>\n",
       "      <td>NaN</td>\n",
       "      <td>NaN</td>\n",
       "    </tr>\n",
       "  </tbody>\n",
       "</table>\n",
       "</div>"
      ],
      "text/plain": [
       "   dataset_id       date            company_name  followers_count  \\\n",
       "0       58329 2015-09-14           Goldman Sachs           552254   \n",
       "1       58329 2015-09-15           Goldman Sachs           552862   \n",
       "2       58363 2015-09-16     United Technologies            59157   \n",
       "3       58366 2015-09-16            Novo Nordisk           336175   \n",
       "4       58371 2015-09-16  Lowe's Companies, Inc.           134255   \n",
       "\n",
       "   employees_on_platform                                   link  \\\n",
       "0                  38124  https://www.linkedin.com/company/1382   \n",
       "1                  38141  https://www.linkedin.com/company/1382   \n",
       "2                  14982  https://www.linkedin.com/company/2426   \n",
       "3                  26448  https://www.linkedin.com/company/2227   \n",
       "4                  62574  https://www.linkedin.com/company/4128   \n",
       "\n",
       "               industry              date_added            date_updated  \\\n",
       "0    Investment Banking  2015-09-14 00:00:00+00  2015-09-14 00:00:00+00   \n",
       "1    Investment Banking  2015-09-15 00:00:00+00  2015-09-15 00:00:00+00   \n",
       "2  Aviation & Aerospace  2015-09-16 00:00:00+00  2015-09-16 00:00:00+00   \n",
       "3       Pharmaceuticals  2015-09-16 00:00:00+00  2015-09-16 00:00:00+00   \n",
       "4                Retail  2015-09-16 00:00:00+00  2015-09-16 00:00:00+00   \n",
       "\n",
       "  description website  entity_id  cusip  isin  \n",
       "0         NaN     NaN        NaN    NaN   NaN  \n",
       "1         NaN     NaN        NaN    NaN   NaN  \n",
       "2         NaN     NaN        NaN    NaN   NaN  \n",
       "3         NaN     NaN        NaN    NaN   NaN  \n",
       "4         NaN     NaN        NaN    NaN   NaN  "
      ]
     },
     "metadata": {},
     "output_type": "display_data"
    }
   ],
   "source": [
    "filename = 'data/temp_datalab_records_linkedin_company.csv'\n",
    "df = pd.read_csv(filename)#, parse_dates=True)#, index_col='DATE')\n",
    "df['as_of_date'] = pd.to_datetime(df['as_of_date'])\n",
    "df.rename(columns={ 'as_of_date': 'date'}, inplace=True)\n",
    "display(df.head())"
   ]
  },
  {
   "cell_type": "code",
   "execution_count": 229,
   "metadata": {},
   "outputs": [
    {
     "name": "stdout",
     "output_type": "stream",
     "text": [
      "2015-09-14 00:00:00\n",
      "2018-07-17 00:00:00\n"
     ]
    }
   ],
   "source": [
    "# range of the dates\n",
    "print(df['date'].min())\n",
    "print(df['date'].max())"
   ]
  },
  {
   "cell_type": "markdown",
   "metadata": {},
   "source": [
    "## Increasing Speed of Employee Numbers\n",
    "\n",
    "Let's define the slope as the increasing number of employees per day. We group the data by company names, and find the slope for each company."
   ]
  },
  {
   "cell_type": "code",
   "execution_count": 202,
   "metadata": {},
   "outputs": [
    {
     "data": {
      "text/html": [
       "<div>\n",
       "<style scoped>\n",
       "    .dataframe tbody tr th:only-of-type {\n",
       "        vertical-align: middle;\n",
       "    }\n",
       "\n",
       "    .dataframe tbody tr th {\n",
       "        vertical-align: top;\n",
       "    }\n",
       "\n",
       "    .dataframe thead th {\n",
       "        text-align: right;\n",
       "    }\n",
       "</style>\n",
       "<table border=\"1\" class=\"dataframe\">\n",
       "  <thead>\n",
       "    <tr style=\"text-align: right;\">\n",
       "      <th></th>\n",
       "      <th>slope</th>\n",
       "    </tr>\n",
       "    <tr>\n",
       "      <th>company_name</th>\n",
       "      <th></th>\n",
       "    </tr>\n",
       "  </thead>\n",
       "  <tbody>\n",
       "    <tr>\n",
       "      <th>Hewlett-Packard</th>\n",
       "      <td>527.105346</td>\n",
       "    </tr>\n",
       "    <tr>\n",
       "      <th>Marriott International</th>\n",
       "      <td>238.200121</td>\n",
       "    </tr>\n",
       "    <tr>\n",
       "      <th>Amazon</th>\n",
       "      <td>169.909662</td>\n",
       "    </tr>\n",
       "    <tr>\n",
       "      <th>IBM</th>\n",
       "      <td>169.873137</td>\n",
       "    </tr>\n",
       "    <tr>\n",
       "      <th>Walmart</th>\n",
       "      <td>157.842788</td>\n",
       "    </tr>\n",
       "    <tr>\n",
       "      <th>McDonald's</th>\n",
       "      <td>148.224039</td>\n",
       "    </tr>\n",
       "    <tr>\n",
       "      <th>TOTAL</th>\n",
       "      <td>132.724378</td>\n",
       "    </tr>\n",
       "    <tr>\n",
       "      <th>TechnipFMC</th>\n",
       "      <td>126.321377</td>\n",
       "    </tr>\n",
       "    <tr>\n",
       "      <th>Hilton</th>\n",
       "      <td>123.594599</td>\n",
       "    </tr>\n",
       "    <tr>\n",
       "      <th>Accenture</th>\n",
       "      <td>122.836514</td>\n",
       "    </tr>\n",
       "  </tbody>\n",
       "</table>\n",
       "</div>"
      ],
      "text/plain": [
       "                             slope\n",
       "company_name                      \n",
       "Hewlett-Packard         527.105346\n",
       "Marriott International  238.200121\n",
       "Amazon                  169.909662\n",
       "IBM                     169.873137\n",
       "Walmart                 157.842788\n",
       "McDonald's              148.224039\n",
       "TOTAL                   132.724378\n",
       "TechnipFMC              126.321377\n",
       "Hilton                  123.594599\n",
       "Accenture               122.836514"
      ]
     },
     "metadata": {},
     "output_type": "display_data"
    },
    {
     "data": {
      "text/plain": [
       "<Figure size 432x288 with 0 Axes>"
      ]
     },
     "metadata": {},
     "output_type": "display_data"
    },
    {
     "data": {
      "image/png": "[encoded data removed]",
      "text/plain": [
       "<Figure size 720x360 with 1 Axes>"
      ]
     },
     "metadata": {
      "needs_background": "light"
     },
     "output_type": "display_data"
    }
   ],
   "source": [
    "def slope(x):\n",
    "    if len(x)<2:\n",
    "        return np.nan\n",
    "    x1 = x['date'].values # remove index, since it may not start from 0\n",
    "    x1 = (x1-x1[0]).astype('timedelta64[D]').astype(int)\n",
    "    x2 = x['employees_on_platform'].values\n",
    "    return linregress(x1,x2)[0]\n",
    "\n",
    "df_slope = df.groupby('company_name').apply(lambda x: slope(x))\n",
    "df_slope = pd.DataFrame(df_slope)\n",
    "df_slope.columns = ['slope']\n",
    "df_slope = df_slope.sort_values('slope', ascending=False)\n",
    "display(df_slope.head(10))\n",
    "\n",
    "plt.figure()\n",
    "df_slope.hist(bins = 50, color = 'blue', edgecolor='black',log=True,figsize = (10,5))\n",
    "plt.grid(True)\n",
    "plt.title('Histogram: Increasing Slope of Company Employees')\n",
    "plt.xlabel('Slope')\n",
    "plt.ylabel('Count')\n",
    "plt.tight_layout()\n",
    "plt.savefig('Expand_Slope.png')"
   ]
  },
  {
   "cell_type": "markdown",
   "metadata": {},
   "source": [
    "The 1st slope company Hewlett-Packard has an unbelievable increasing speed:\n",
    "\n",
    "527.105346 employees / day\n",
    "\n",
    "However, if we check the range of the dates for Hewlett-Packard:"
   ]
  },
  {
   "cell_type": "code",
   "execution_count": 7,
   "metadata": {},
   "outputs": [
    {
     "name": "stdout",
     "output_type": "stream",
     "text": [
      "2015-09-16 00:00:00\n",
      "2015-10-26 00:00:00\n"
     ]
    }
   ],
   "source": [
    "print(df[df['company_name'] == 'Hewlett-Packard']['date'].min())\n",
    "print(df[df['company_name'] == 'Hewlett-Packard']['date'].max())"
   ]
  },
  {
   "cell_type": "markdown",
   "metadata": {},
   "source": [
    "We find that it just increased fast in a short period (40 days), so slope may not be a good indicator to find the companies with large expansion.\n",
    "\n",
    "\n",
    "## Number of Increased Employees\n",
    "\n",
    "Let's check the increased number of employees from 2015-09-14 to 2018-07-17. We group the data by company names, and find the difference of employee numbers between the last day and the first day. We sort the data by decending order of expansions."
   ]
  },
  {
   "cell_type": "code",
   "execution_count": 203,
   "metadata": {},
   "outputs": [
    {
     "data": {
      "text/html": [
       "<div>\n",
       "<style scoped>\n",
       "    .dataframe tbody tr th:only-of-type {\n",
       "        vertical-align: middle;\n",
       "    }\n",
       "\n",
       "    .dataframe tbody tr th {\n",
       "        vertical-align: top;\n",
       "    }\n",
       "\n",
       "    .dataframe thead th {\n",
       "        text-align: right;\n",
       "    }\n",
       "</style>\n",
       "<table border=\"1\" class=\"dataframe\">\n",
       "  <thead>\n",
       "    <tr style=\"text-align: right;\">\n",
       "      <th></th>\n",
       "      <th>expand_num</th>\n",
       "      <th>expand_ratio</th>\n",
       "    </tr>\n",
       "    <tr>\n",
       "      <th>company_name</th>\n",
       "      <th></th>\n",
       "      <th></th>\n",
       "    </tr>\n",
       "  </thead>\n",
       "  <tbody>\n",
       "    <tr>\n",
       "      <th>Walmart</th>\n",
       "      <td>181442.0</td>\n",
       "      <td>0.790146</td>\n",
       "    </tr>\n",
       "    <tr>\n",
       "      <th>Amazon</th>\n",
       "      <td>176769.0</td>\n",
       "      <td>2.087716</td>\n",
       "    </tr>\n",
       "    <tr>\n",
       "      <th>IBM</th>\n",
       "      <td>163813.0</td>\n",
       "      <td>0.395551</td>\n",
       "    </tr>\n",
       "    <tr>\n",
       "      <th>Accenture</th>\n",
       "      <td>122157.0</td>\n",
       "      <td>0.473460</td>\n",
       "    </tr>\n",
       "    <tr>\n",
       "      <th>McDonald's</th>\n",
       "      <td>119906.0</td>\n",
       "      <td>1.160497</td>\n",
       "    </tr>\n",
       "    <tr>\n",
       "      <th>Marriott International</th>\n",
       "      <td>115879.0</td>\n",
       "      <td>1.861959</td>\n",
       "    </tr>\n",
       "    <tr>\n",
       "      <th>Cognizant</th>\n",
       "      <td>85812.0</td>\n",
       "      <td>0.543995</td>\n",
       "    </tr>\n",
       "    <tr>\n",
       "      <th>Ford Motor Company</th>\n",
       "      <td>84251.0</td>\n",
       "      <td>1.024702</td>\n",
       "    </tr>\n",
       "    <tr>\n",
       "      <th>Apple</th>\n",
       "      <td>82126.0</td>\n",
       "      <td>0.790251</td>\n",
       "    </tr>\n",
       "    <tr>\n",
       "      <th>Google</th>\n",
       "      <td>72997.0</td>\n",
       "      <td>1.078529</td>\n",
       "    </tr>\n",
       "    <tr>\n",
       "      <th>JPMorgan Chase &amp; Co.</th>\n",
       "      <td>71919.0</td>\n",
       "      <td>0.379084</td>\n",
       "    </tr>\n",
       "    <tr>\n",
       "      <th>HSBC</th>\n",
       "      <td>69610.0</td>\n",
       "      <td>0.501513</td>\n",
       "    </tr>\n",
       "    <tr>\n",
       "      <th>Vodafone</th>\n",
       "      <td>65685.0</td>\n",
       "      <td>0.839307</td>\n",
       "    </tr>\n",
       "    <tr>\n",
       "      <th>Citi</th>\n",
       "      <td>63873.0</td>\n",
       "      <td>0.441759</td>\n",
       "    </tr>\n",
       "    <tr>\n",
       "      <th>Bank of America</th>\n",
       "      <td>63626.0</td>\n",
       "      <td>0.321339</td>\n",
       "    </tr>\n",
       "    <tr>\n",
       "      <th>Sprint</th>\n",
       "      <td>61329.0</td>\n",
       "      <td>1.599484</td>\n",
       "    </tr>\n",
       "    <tr>\n",
       "      <th>Starbucks</th>\n",
       "      <td>60479.0</td>\n",
       "      <td>1.015907</td>\n",
       "    </tr>\n",
       "    <tr>\n",
       "      <th>GE</th>\n",
       "      <td>58862.0</td>\n",
       "      <td>0.332875</td>\n",
       "    </tr>\n",
       "    <tr>\n",
       "      <th>AT&amp;T</th>\n",
       "      <td>58101.0</td>\n",
       "      <td>0.337875</td>\n",
       "    </tr>\n",
       "    <tr>\n",
       "      <th>Wells Fargo</th>\n",
       "      <td>56078.0</td>\n",
       "      <td>0.303592</td>\n",
       "    </tr>\n",
       "  </tbody>\n",
       "</table>\n",
       "</div>"
      ],
      "text/plain": [
       "                        expand_num  expand_ratio\n",
       "company_name                                    \n",
       "Walmart                   181442.0      0.790146\n",
       "Amazon                    176769.0      2.087716\n",
       "IBM                       163813.0      0.395551\n",
       "Accenture                 122157.0      0.473460\n",
       "McDonald's                119906.0      1.160497\n",
       "Marriott International    115879.0      1.861959\n",
       "Cognizant                  85812.0      0.543995\n",
       "Ford Motor Company         84251.0      1.024702\n",
       "Apple                      82126.0      0.790251\n",
       "Google                     72997.0      1.078529\n",
       "JPMorgan Chase & Co.       71919.0      0.379084\n",
       "HSBC                       69610.0      0.501513\n",
       "Vodafone                   65685.0      0.839307\n",
       "Citi                       63873.0      0.441759\n",
       "Bank of America            63626.0      0.321339\n",
       "Sprint                     61329.0      1.599484\n",
       "Starbucks                  60479.0      1.015907\n",
       "GE                         58862.0      0.332875\n",
       "AT&T                       58101.0      0.337875\n",
       "Wells Fargo                56078.0      0.303592"
      ]
     },
     "metadata": {},
     "output_type": "display_data"
    }
   ],
   "source": [
    "def expand(x):\n",
    "    if len(x)<2:\n",
    "        return np.nan, np.nan\n",
    "    x1 = x['employees_on_platform'].values\n",
    "    if x1[0] == 0:\n",
    "        return x1[-1], np.nan\n",
    "    expand_num = x1[-1] - x1[0]\n",
    "    expand_ratio = expand_num/x1[0]\n",
    "    return expand_num, expand_ratio\n",
    "\n",
    "df_expand = df.groupby('company_name').apply(lambda x: expand(x))\n",
    "df_expand = pd.DataFrame(df_expand)\n",
    "df_expand.columns = ['expansion']\n",
    "df_expand['expand_num'], df_expand['expand_ratio'] = list(zip(*df_expand['expansion'].values))\n",
    "df_expand.drop(columns=['expansion'], inplace= True)\n",
    "\n",
    "df_expand = df_expand.sort_values('expand_num', ascending=False)\n",
    "display(df_expand.head(20))\n"
   ]
  },
  {
   "cell_type": "code",
   "execution_count": 204,
   "metadata": {},
   "outputs": [
    {
     "data": {
      "text/plain": [
       "<Figure size 432x288 with 0 Axes>"
      ]
     },
     "metadata": {},
     "output_type": "display_data"
    },
    {
     "data": {
      "image/png": "[encoded data removed]",
      "text/plain": [
       "<Figure size 720x360 with 1 Axes>"
      ]
     },
     "metadata": {
      "needs_background": "light"
     },
     "output_type": "display_data"
    }
   ],
   "source": [
    "plt.figure()\n",
    "df_expand[['expand_num']].hist(bins = 50, color = 'blue', edgecolor='black',log=True,figsize = (10,5))\n",
    "plt.grid(True)\n",
    "plt.title('Histogram: Increased Number of Company Employees')\n",
    "plt.xlabel('Increased Number')\n",
    "plt.ylabel('Count')\n",
    "plt.tight_layout()\n",
    "plt.savefig('Expand_Number.png')\n"
   ]
  },
  {
   "cell_type": "markdown",
   "metadata": {},
   "source": [
    "Let check the dates range of the 1st company Walmart"
   ]
  },
  {
   "cell_type": "code",
   "execution_count": 11,
   "metadata": {},
   "outputs": [
    {
     "name": "stdout",
     "output_type": "stream",
     "text": [
      "2015-09-16 00:00:00\n",
      "2018-07-17 00:00:00\n"
     ]
    }
   ],
   "source": [
    "print(df[df['company_name'] == 'Walmart']['date'].min())\n",
    "print(df[df['company_name'] == 'Walmart']['date'].max())"
   ]
  },
  {
   "cell_type": "markdown",
   "metadata": {},
   "source": [
    "The date range covers a wide range (~ 3 years), thus we can compare this data with financial data.\n",
    "\n",
    "## Company Names to Stock Names"
   ]
  },
  {
   "cell_type": "code",
   "execution_count": 240,
   "metadata": {},
   "outputs": [
    {
     "name": "stdout",
     "output_type": "stream",
     "text": [
      "[['Walmart' 'WMT']\n",
      " ['Amazon' 'AMZN']\n",
      " ['IBM' 'IBM']\n",
      " ['Accenture' 'ACN']\n",
      " [\"McDonald's\" 'MCD']\n",
      " ['Marriott International' 'MAR']\n",
      " ['Cognizant' 'CTSH']\n",
      " ['Ford Motor Company' 'F']\n",
      " ['Apple' 'AAPL']\n",
      " ['Google' 'GOOG']\n",
      " ['Google' 'GOOGL']\n",
      " ['JPMorgan Chase & Co.' 'JPM']\n",
      " ['HSBC' 'HSBC']\n",
      " ['Vodafone' 'VOD']\n",
      " ['Citi' 'C']\n",
      " ['Bank of America' 'BAC']\n",
      " ['Sprint' 'S']\n",
      " ['Starbucks' 'SBUX']\n",
      " ['GE' 'GE']\n",
      " ['AT&T' 'T']\n",
      " ['Wells Fargo' 'WFC']]\n"
     ]
    }
   ],
   "source": [
    "names = np.concatenate((df_expand.index[:10].values, df_expand.index[10-1:20].values))\n",
    "symbols = np.array(['WMT','AMZN','IBM','ACN','MCD','MAR','CTSH','F','AAPL','GOOG','GOOGL',\n",
    "                   'JPM','HSBC','VOD','C','BAC','S','SBUX','GE','T','WFC'])\n",
    "\n",
    "print(np.transpose(np.concatenate(([names], [symbols]), axis=0)))"
   ]
  },
  {
   "cell_type": "markdown",
   "metadata": {},
   "source": [
    "Above is the list of top 20 companies and respective stock symbol.\n",
    "\n",
    "Please notice that Google has 2 stocks: GOOG, GOOGL\n",
    "\n",
    "\n",
    "\n",
    "## For Amazon, Compare the Number of Employees and Stock Price\n",
    "\n",
    "From the previous result, we found that Amazon has the highest expand ratio among the top 20 expansion companies.\n",
    "\n",
    "Here let's explore the relation between number of employees and stock price for Amazon.\n",
    "\n",
    "We get the stock data of Amazon from Yahoo Finance (https://finance.yahoo.com). Then we create a data table including the stock price and number of employees on each date."
   ]
  },
  {
   "cell_type": "code",
   "execution_count": 230,
   "metadata": {},
   "outputs": [
    {
     "data": {
      "text/html": [
       "<div>\n",
       "<style scoped>\n",
       "    .dataframe tbody tr th:only-of-type {\n",
       "        vertical-align: middle;\n",
       "    }\n",
       "\n",
       "    .dataframe tbody tr th {\n",
       "        vertical-align: top;\n",
       "    }\n",
       "\n",
       "    .dataframe thead th {\n",
       "        text-align: right;\n",
       "    }\n",
       "</style>\n",
       "<table border=\"1\" class=\"dataframe\">\n",
       "  <thead>\n",
       "    <tr style=\"text-align: right;\">\n",
       "      <th></th>\n",
       "      <th>employees_on_platform</th>\n",
       "      <th>price</th>\n",
       "    </tr>\n",
       "    <tr>\n",
       "      <th>date</th>\n",
       "      <th></th>\n",
       "      <th></th>\n",
       "    </tr>\n",
       "  </thead>\n",
       "  <tbody>\n",
       "    <tr>\n",
       "      <th>2015-09-16</th>\n",
       "      <td>84671</td>\n",
       "      <td>527.390015</td>\n",
       "    </tr>\n",
       "    <tr>\n",
       "      <th>2015-09-17</th>\n",
       "      <td>84716</td>\n",
       "      <td>538.869995</td>\n",
       "    </tr>\n",
       "    <tr>\n",
       "      <th>2015-09-18</th>\n",
       "      <td>84809</td>\n",
       "      <td>540.260010</td>\n",
       "    </tr>\n",
       "    <tr>\n",
       "      <th>2015-09-19</th>\n",
       "      <td>84835</td>\n",
       "      <td>NaN</td>\n",
       "    </tr>\n",
       "    <tr>\n",
       "      <th>2015-09-20</th>\n",
       "      <td>84898</td>\n",
       "      <td>NaN</td>\n",
       "    </tr>\n",
       "  </tbody>\n",
       "</table>\n",
       "</div>"
      ],
      "text/plain": [
       "            employees_on_platform       price\n",
       "date                                         \n",
       "2015-09-16                  84671  527.390015\n",
       "2015-09-17                  84716  538.869995\n",
       "2015-09-18                  84809  540.260010\n",
       "2015-09-19                  84835         NaN\n",
       "2015-09-20                  84898         NaN"
      ]
     },
     "execution_count": 230,
     "metadata": {},
     "output_type": "execute_result"
    }
   ],
   "source": [
    "df1 = df[df['company_name'] == 'Amazon'].copy()\n",
    "df1.set_index('date', inplace = True)\n",
    "\n",
    "filename = 'data/stocks/AMZN.csv'\n",
    "df1_stock = pd.read_csv(filename, parse_dates=True, index_col='Date')\n",
    "df1_stock.head()\n",
    "\n",
    "df1['price'] = df1_stock['Adj Close']\n",
    "df1[['employees_on_platform','price']].head()"
   ]
  },
  {
   "cell_type": "markdown",
   "metadata": {},
   "source": [
    "Notice the stock market is only open on weekdays, so we drop the weekends ( on which the stock prices are NaN ). For the purpose of generalization, we scale the number of employees and stock prices by dividing the first value."
   ]
  },
  {
   "cell_type": "code",
   "execution_count": 231,
   "metadata": {},
   "outputs": [
    {
     "data": {
      "text/plain": [
       "<Figure size 432x288 with 0 Axes>"
      ]
     },
     "metadata": {},
     "output_type": "display_data"
    },
    {
     "data": {
      "image/png": "[encoded data removed]",
      "text/plain": [
       "<Figure size 720x360 with 1 Axes>"
      ]
     },
     "metadata": {
      "needs_background": "light"
     },
     "output_type": "display_data"
    }
   ],
   "source": [
    "df_plot = df1[['employees_on_platform','price']].copy()\n",
    "df_plot.dropna(inplace = True)\n",
    "df_plot = df_plot/df_plot.iloc[0]\n",
    "\n",
    "plt.figure()\n",
    "df_plot.plot(color = ['red','black'], figsize = (10,5))\n",
    "plt.grid(True)\n",
    "plt.legend()\n",
    "plt.title('Number of Employees & Stock Price')\n",
    "plt.xlabel('Date')\n",
    "plt.tight_layout()\n",
    "plt.savefig('Employees_Price_Amazon.png')"
   ]
  },
  {
   "cell_type": "markdown",
   "metadata": {},
   "source": [
    "We can see that the number of employees and stock price of Amazon are correlated quite well. Below is the correlation matrix."
   ]
  },
  {
   "cell_type": "code",
   "execution_count": 232,
   "metadata": {},
   "outputs": [
    {
     "data": {
      "text/plain": [
       "array([[1.        , 0.97369804],\n",
       "       [0.97369804, 1.        ]])"
      ]
     },
     "execution_count": 232,
     "metadata": {},
     "output_type": "execute_result"
    }
   ],
   "source": [
    "np.corrcoef(df_plot['employees_on_platform'].values,df_plot['price'].values)"
   ]
  },
  {
   "cell_type": "markdown",
   "metadata": {},
   "source": [
    "## Find an Indicator for Stock Price\n",
    "High correlation coefficient is not enough for a market indicator. Because we want the predictor in front of the market, thus we can use it to predict the market. Now let's consider the correlation with Leading days:\n",
    "\n",
    "\n",
    "### Leading \n",
    "If the date of indicator is leading the date of stock, we say the Leading days > 0, and high correlation leads to a good indicator to predict the stock price. Based the efficient-market hypothesis (EMH), if less people use this indicator, the indicator is more likely a private information, and can be used to get profit in semi-strong or weak efficient markets.\n",
    "\n",
    "### Lagging\n",
    "If the date of indicator is lagging the date of stock, we say the Leading days < 0, and high correlation might be useless to predict the stock price. However, the stock price can be used to predict the company's expansion plan. A current employee knows that he/she may need to find another employer when the stock price goes down, while a job seeker knows that it is a good chance to join the company when the stock price goes up."
   ]
  },
  {
   "cell_type": "code",
   "execution_count": 236,
   "metadata": {},
   "outputs": [
    {
     "data": {
      "image/png": "[encoded data removed]",
      "text/plain": [
       "<Figure size 504x360 with 1 Axes>"
      ]
     },
     "metadata": {
      "needs_background": "light"
     },
     "output_type": "display_data"
    }
   ],
   "source": [
    "days = np.array([])\n",
    "coefs = np.array([])\n",
    "for i in range(-100,100+1):\n",
    "    x = df_plot['employees_on_platform'].values\n",
    "    y = df_plot['price'].values\n",
    "    if i > 0: # x lead y\n",
    "        x = x[:-i]\n",
    "        y = y[i:]\n",
    "    elif i < 0: # x lag y\n",
    "        x = x[-i:]\n",
    "        y = y[:i]\n",
    "    c = np.corrcoef(x, y)[0,1]\n",
    "    days = np.append(days,i)\n",
    "    coefs = np.append(coefs,c)\n",
    "\n",
    "plt.figure(figsize = (7,5))\n",
    "plt.plot(days,coefs, color = 'black')\n",
    "plt.title('Correlation Coefficients vs Leading Days\\n Amazon')\n",
    "plt.xlabel('Leading Days')\n",
    "plt.ylabel('Correlation Coefficients')\n",
    "plt.grid(True)\n",
    "plt.tight_layout()\n",
    "plt.savefig('Indicator_Amazon.png')"
   ]
  },
  {
   "cell_type": "code",
   "execution_count": 234,
   "metadata": {},
   "outputs": [
    {
     "name": "stdout",
     "output_type": "stream",
     "text": [
      "Highest correlation coefficients: 0.97972886\n",
      "With Leading days: 37\n"
     ]
    }
   ],
   "source": [
    "idx = np.argmax(coefs)\n",
    "print('Highest correlation coefficients: %.10g' % coefs[idx])\n",
    "print('With Leading days: %d' % days[idx] )"
   ]
  },
  {
   "cell_type": "markdown",
   "metadata": {},
   "source": [
    "From the figure above, we can find that the number of employees is a quite good indicator  ( correlation coefficient = 0.97972886 ) to predict the stock price of Amazon 37 weekdays in the future.\n",
    "\n",
    "\n",
    "## Indicator for Stocks of Top 20 Expansion Companies"
   ]
  },
  {
   "cell_type": "code",
   "execution_count": 207,
   "metadata": {},
   "outputs": [
    {
     "name": "stderr",
     "output_type": "stream",
     "text": [
      "/Users/Strawberry/anaconda3/lib/python3.7/site-packages/numpy/lib/function_base.py:392: RuntimeWarning: Mean of empty slice.\n",
      "  avg = a.mean(axis)\n",
      "/Users/Strawberry/anaconda3/lib/python3.7/site-packages/numpy/core/_methods.py:78: RuntimeWarning: invalid value encountered in true_divide\n",
      "  ret, rcount, out=ret, casting='unsafe', subok=False)\n",
      "/Users/Strawberry/anaconda3/lib/python3.7/site-packages/numpy/lib/function_base.py:2522: RuntimeWarning: Degrees of freedom <= 0 for slice\n",
      "  c = cov(x, y, rowvar)\n",
      "/Users/Strawberry/anaconda3/lib/python3.7/site-packages/numpy/lib/function_base.py:2451: RuntimeWarning: divide by zero encountered in true_divide\n",
      "  c *= np.true_divide(1, fact)\n",
      "/Users/Strawberry/anaconda3/lib/python3.7/site-packages/numpy/lib/function_base.py:2451: RuntimeWarning: invalid value encountered in multiply\n",
      "  c *= np.true_divide(1, fact)\n"
     ]
    }
   ],
   "source": [
    "corrcoefs = np.array([])\n",
    "lag_days =  np.array([])\n",
    "\n",
    "for i in range(len(names)):\n",
    "    name = names[i]\n",
    "    symbol = symbols[i]\n",
    "    \n",
    "    df1 = df[df['company_name'] == name].copy()\n",
    "    df1.set_index('date', inplace = True)\n",
    "\n",
    "    filename = 'data/stocks/'+symbol+'.csv'\n",
    "    df1_stock = pd.read_csv(filename, parse_dates=True, index_col='Date')\n",
    "    df1['price'] = df1_stock['Adj Close']\n",
    "            \n",
    "    df_plot = df1[['employees_on_platform','price']].copy()\n",
    "    df_plot.dropna(inplace = True)\n",
    "    df_plot = df_plot/df_plot.iloc[0]\n",
    "    \n",
    "    days = np.array([])\n",
    "    coefs = np.array([])\n",
    "    for i in range(-500,500+1):\n",
    "        x = df_plot['employees_on_platform'].values\n",
    "        y = df_plot['price'].values\n",
    "        if i > 0: # x lead y\n",
    "            x = x[:-i]\n",
    "            y = y[i:]\n",
    "        elif i < 0: # x lag y\n",
    "            x = x[-i:]\n",
    "            y = y[:i]\n",
    "        \n",
    "        c = np.corrcoef(x, y)[0,1]\n",
    "        days = np.append(days,i)\n",
    "        coefs = np.append(coefs,c)\n",
    "    \n",
    "    idx = np.argmax(coefs)\n",
    "    lag_days = np.append(lag_days,days[idx])\n",
    "    corrcoefs = np.append(corrcoefs,coefs[idx])"
   ]
  },
  {
   "cell_type": "code",
   "execution_count": 225,
   "metadata": {},
   "outputs": [
    {
     "data": {
      "image/png": "[encoded data removed]",
      "text/plain": [
       "<Figure size 648x396 with 1 Axes>"
      ]
     },
     "metadata": {
      "needs_background": "light"
     },
     "output_type": "display_data"
    }
   ],
   "source": [
    "plt.figure(figsize = (9,5.5))\n",
    "sizes = np.abs(lag_days * corrcoefs)*2\n",
    "for i in range(len(names)):\n",
    "    plt.scatter(lag_days[i], corrcoefs[i], sizes[i], label = symbols[i])\n",
    "plt.title('Indicator Performance: Number Employees Leading Stock Prices')\n",
    "plt.xlabel('Leading Days')\n",
    "plt.ylabel('Correlation Coefficients')\n",
    "plt.ylim([None,1.05])\n",
    "plt.legend(bbox_to_anchor=(1, 1),ncol=1)\n",
    "plt.grid(True)\n",
    "plt.tight_layout()\n",
    "plt.savefig('Indicator_Performance.png')\n"
   ]
  },
  {
   "cell_type": "markdown",
   "metadata": {},
   "source": [
    "The figure above shows the indicator performance of the stocks of top 20 expansion companies.\n",
    "\n",
    "\n",
    "### Leading Indicator Companies\n",
    "\n",
    "On the upper right of the graph, we can see that the numbers of employees lead the stocks of { AMZN, MCD, APPL, CTSH, GE } with high correlation coefficients (>0.85). People can use this indicator for trading among these stocks.\n",
    "\n",
    "\n",
    "### Lagging Indicator Companies\n",
    "\n",
    "On the upper left of the graph, we can see that the stock prices of { T, WMT, IBM, BAC, S, HSBC, JPM, GOOGL, WFC } lead the number of employees of corresponding companies, with high correlation coefficients (>0.8). The employees and job seekers can use this indicator to prepare to find new positions. \n",
    "\n",
    "\n",
    "## Next Step: Machine Learning Modeling\n",
    "\n",
    "* Explore the indicator for all the 5028 companies, and 141 industry types in this dataset\n",
    "* Focus on companies with long date range to build predictive models\n",
    "* Split the date range into in sample period ( for training ) and out of sample period ( for testing )\n",
    "\n",
    "* Leading modeling:\n",
    "    select companies with high correlation coefficients leading indicators, and build a machine learning model to predict the stock price from the number of employees\n",
    "\n",
    "* Lagging modeling:\n",
    "    select companies with high correlation coefficients lagging indicators, and build a machine learning model to predict the number of employees from the stock price\n",
    "  \n",
    "* Explore the followers_count, and add it as an additional indicator into the models"
   ]
  },
  {
   "cell_type": "code",
   "execution_count": 241,
   "metadata": {},
   "outputs": [
    {
     "name": "stdout",
     "output_type": "stream",
     "text": [
      "sys:1: DtypeWarning: Columns (9,10) have mixed types. Specify dtype option on import or set low_memory=False.\n",
      "   dataset_id       date            company_name  followers_count  \\\n",
      "0       58329 2015-09-14           Goldman Sachs           552254   \n",
      "1       58329 2015-09-15           Goldman Sachs           552862   \n",
      "2       58363 2015-09-16     United Technologies            59157   \n",
      "3       58366 2015-09-16            Novo Nordisk           336175   \n",
      "4       58371 2015-09-16  Lowe's Companies, Inc.           134255   \n",
      "\n",
      "   employees_on_platform                                   link  \\\n",
      "0                  38124  https://www.linkedin.com/company/1382   \n",
      "1                  38141  https://www.linkedin.com/company/1382   \n",
      "2                  14982  https://www.linkedin.com/company/2426   \n",
      "3                  26448  https://www.linkedin.com/company/2227   \n",
      "4                  62574  https://www.linkedin.com/company/4128   \n",
      "\n",
      "               industry              date_added            date_updated  \\\n",
      "0    Investment Banking  2015-09-14 00:00:00+00  2015-09-14 00:00:00+00   \n",
      "1    Investment Banking  2015-09-15 00:00:00+00  2015-09-15 00:00:00+00   \n",
      "2  Aviation & Aerospace  2015-09-16 00:00:00+00  2015-09-16 00:00:00+00   \n",
      "3       Pharmaceuticals  2015-09-16 00:00:00+00  2015-09-16 00:00:00+00   \n",
      "4                Retail  2015-09-16 00:00:00+00  2015-09-16 00:00:00+00   \n",
      "\n",
      "  description website  entity_id  cusip  isin  \n",
      "0         NaN     NaN        NaN    NaN   NaN  \n",
      "1         NaN     NaN        NaN    NaN   NaN  \n",
      "2         NaN     NaN        NaN    NaN   NaN  \n",
      "3         NaN     NaN        NaN    NaN   NaN  \n",
      "4         NaN     NaN        NaN    NaN   NaN  \n",
      "2015-09-14 00:00:00\n",
      "2018-07-17 00:00:00\n",
      "                             slope\n",
      "company_name                      \n",
      "Hewlett-Packard         527.105346\n",
      "Marriott International  238.200121\n",
      "Amazon                  169.909662\n",
      "IBM                     169.873137\n",
      "Walmart                 157.842788\n",
      "McDonald's              148.224039\n",
      "TOTAL                   132.724378\n",
      "TechnipFMC              126.321377\n",
      "Hilton                  123.594599\n",
      "Accenture               122.836514\n",
      "/Library/Frameworks/Python.framework/Versions/3.6/lib/python3.6/site-packages/matplotlib/font_manager.py:279: UserWarning: Matplotlib is building the font cache using fc-list. This may take a moment.\n",
      "  'Matplotlib is building the font cache using fc-list. '\n",
      "2015-09-16 00:00:00\n",
      "2015-10-26 00:00:00\n",
      "                        expand_num  expand_ratio\n",
      "company_name                                    \n",
      "Walmart                   181442.0      0.790146\n",
      "Amazon                    176769.0      2.087716\n",
      "IBM                       163813.0      0.395551\n",
      "Accenture                 122157.0      0.473460\n",
      "McDonald's                119906.0      1.160497\n",
      "Marriott International    115879.0      1.861959\n",
      "Cognizant                  85812.0      0.543995\n",
      "Ford Motor Company         84251.0      1.024702\n",
      "Apple                      82126.0      0.790251\n",
      "Google                     72997.0      1.078529\n",
      "JPMorgan Chase & Co.       71919.0      0.379084\n",
      "HSBC                       69610.0      0.501513\n",
      "Vodafone                   65685.0      0.839307\n",
      "Citi                       63873.0      0.441759\n",
      "Bank of America            63626.0      0.321339\n",
      "Sprint                     61329.0      1.599484\n",
      "Starbucks                  60479.0      1.015907\n",
      "GE                         58862.0      0.332875\n",
      "AT&T                       58101.0      0.337875\n",
      "Wells Fargo                56078.0      0.303592\n",
      "2015-09-16 00:00:00\n",
      "2018-07-17 00:00:00\n",
      "[['Walmart' 'WMT']\n",
      " ['Amazon' 'AMZN']\n",
      " ['IBM' 'IBM']\n",
      " ['Accenture' 'ACN']\n",
      " [\"McDonald's\" 'MCD']\n",
      " ['Marriott International' 'MAR']\n",
      " ['Cognizant' 'CTSH']\n",
      " ['Ford Motor Company' 'F']\n",
      " ['Apple' 'AAPL']\n",
      " ['Google' 'GOOG']\n",
      " ['Google' 'GOOGL']\n",
      " ['JPMorgan Chase & Co.' 'JPM']\n",
      " ['HSBC' 'HSBC']\n",
      " ['Vodafone' 'VOD']\n",
      " ['Citi' 'C']\n",
      " ['Bank of America' 'BAC']\n",
      " ['Sprint' 'S']\n",
      " ['Starbucks' 'SBUX']\n",
      " ['GE' 'GE']\n",
      " ['AT&T' 'T']\n",
      " ['Wells Fargo' 'WFC']]\n",
      "            employees_on_platform       price\n",
      "date                                         \n",
      "2015-09-16                  84671  527.390015\n",
      "2015-09-17                  84716  538.869995\n",
      "2015-09-18                  84809  540.260010\n",
      "2015-09-19                  84835         NaN\n",
      "2015-09-20                  84898         NaN\n",
      "Highest correlation coefficients: 0.97972886\n",
      "With Leading days: 37\n",
      "/Library/Frameworks/Python.framework/Versions/3.6/lib/python3.6/site-packages/numpy/lib/function_base.py:1110: RuntimeWarning: Mean of empty slice.\n",
      "  avg = a.mean(axis)\n",
      "/Library/Frameworks/Python.framework/Versions/3.6/lib/python3.6/site-packages/numpy/core/_methods.py:73: RuntimeWarning: invalid value encountered in true_divide\n",
      "  ret, rcount, out=ret, casting='unsafe', subok=False)\n",
      "/Library/Frameworks/Python.framework/Versions/3.6/lib/python3.6/site-packages/numpy/lib/function_base.py:3159: RuntimeWarning: Degrees of freedom <= 0 for slice\n",
      "  c = cov(x, y, rowvar)\n",
      "/Library/Frameworks/Python.framework/Versions/3.6/lib/python3.6/site-packages/numpy/lib/function_base.py:3093: RuntimeWarning: divide by zero encountered in double_scalars\n",
      "  c *= 1. / np.float64(fact)\n",
      "/Library/Frameworks/Python.framework/Versions/3.6/lib/python3.6/site-packages/numpy/lib/function_base.py:3093: RuntimeWarning: invalid value encountered in multiply\n",
      "  c *= 1. / np.float64(fact)\n"
     ]
    }
   ],
   "source": [
    "!python3 S3.py"
   ]
  },
  {
   "cell_type": "code",
   "execution_count": 243,
   "metadata": {},
   "outputs": [
    {
     "name": "stdout",
     "output_type": "stream",
     "text": [
      "Python 3.6.3\r\n"
     ]
    }
   ],
   "source": [
    "!python3 --version\n"
   ]
  },
  {
   "cell_type": "code",
   "execution_count": 244,
   "metadata": {},
   "outputs": [
    {
     "data": {
      "text/plain": [
       "2426196"
      ]
     },
     "execution_count": 244,
     "metadata": {},
     "output_type": "execute_result"
    }
   ],
   "source": [
    "len(df)"
   ]
  },
  {
   "cell_type": "code",
   "execution_count": 247,
   "metadata": {},
   "outputs": [
    {
     "name": "stdout",
     "output_type": "stream",
     "text": [
      "                        expand_num  expand_ratio\n",
      "company_name                                    \n",
      "Walmart                   181442.0      0.790146\n",
      "Amazon                    176769.0      2.087716\n",
      "IBM                       163813.0      0.395551\n",
      "Accenture                 122157.0      0.473460\n",
      "McDonald's                119906.0      1.160497\n",
      "Marriott International    115879.0      1.861959\n",
      "Cognizant                  85812.0      0.543995\n",
      "Ford Motor Company         84251.0      1.024702\n",
      "Apple                      82126.0      0.790251\n",
      "Google                     72997.0      1.078529\n",
      "JPMorgan Chase & Co.       71919.0      0.379084\n",
      "HSBC                       69610.0      0.501513\n",
      "Vodafone                   65685.0      0.839307\n",
      "Citi                       63873.0      0.441759\n",
      "Bank of America            63626.0      0.321339\n",
      "Sprint                     61329.0      1.599484\n",
      "Starbucks                  60479.0      1.015907\n",
      "GE                         58862.0      0.332875\n",
      "AT&T                       58101.0      0.337875\n",
      "Wells Fargo                56078.0      0.303592\n"
     ]
    }
   ],
   "source": [
    "print(df_expand.head(20))\n"
   ]
  },
  {
   "cell_type": "code",
   "execution_count": null,
   "metadata": {},
   "outputs": [],
   "source": [
    "dataset_id date company_name followers_count employees_on_platform link industry date_added date_updated description website entity_id cusip isin"
   ]
  }
 ],
 "metadata": {
  "kernelspec": {
   "display_name": "Python 3",
   "language": "python",
   "name": "python3"
  },
  "language_info": {
   "codemirror_mode": {
    "name": "ipython",
    "version": 3
   },
   "file_extension": ".py",
   "mimetype": "text/x-python",
   "name": "python",
   "nbconvert_exporter": "python",
   "pygments_lexer": "ipython3",
   "version": "3.7.3"
  }
 },
 "nbformat": 4,
 "nbformat_minor": 2
}
