{
 "cells": [
  {
   "cell_type": "code",
   "execution_count": 3,
   "metadata": {},
   "outputs": [],
   "source": [
    "import numpy as np\n",
    "import pandas as pd\n",
    "import matplotlib.pyplot as plt\n",
    "from scipy.stats import chi2_contingency, linregress\n",
    "from datetime import date"
   ]
  },
  {
   "cell_type": "code",
   "execution_count": 4,
   "metadata": {},
   "outputs": [
    {
     "name": "stderr",
     "output_type": "stream",
     "text": [
      "/Users/Strawberry/anaconda3/lib/python3.7/site-packages/IPython/core/interactiveshell.py:3049: DtypeWarning: Columns (9,10) have mixed types. Specify dtype option on import or set low_memory=False.\n",
      "  interactivity=interactivity, compiler=compiler, result=result)\n"
     ]
    },
    {
     "data": {
      "text/html": [
       "<div>\n",
       "<style scoped>\n",
       "    .dataframe tbody tr th:only-of-type {\n",
       "        vertical-align: middle;\n",
       "    }\n",
       "\n",
       "    .dataframe tbody tr th {\n",
       "        vertical-align: top;\n",
       "    }\n",
       "\n",
       "    .dataframe thead th {\n",
       "        text-align: right;\n",
       "    }\n",
       "</style>\n",
       "<table border=\"1\" class=\"dataframe\">\n",
       "  <thead>\n",
       "    <tr style=\"text-align: right;\">\n",
       "      <th></th>\n",
       "      <th>dataset_id</th>\n",
       "      <th>date</th>\n",
       "      <th>company_name</th>\n",
       "      <th>followers_count</th>\n",
       "      <th>employees_on_platform</th>\n",
       "      <th>link</th>\n",
       "      <th>industry</th>\n",
       "      <th>date_added</th>\n",
       "      <th>date_updated</th>\n",
       "      <th>description</th>\n",
       "      <th>website</th>\n",
       "      <th>entity_id</th>\n",
       "      <th>cusip</th>\n",
       "      <th>isin</th>\n",
       "    </tr>\n",
       "  </thead>\n",
       "  <tbody>\n",
       "    <tr>\n",
       "      <th>0</th>\n",
       "      <td>58329</td>\n",
       "      <td>2015-09-14</td>\n",
       "      <td>Goldman Sachs</td>\n",
       "      <td>552254</td>\n",
       "      <td>38124</td>\n",
       "      <td>https://www.linkedin.com/company/1382</td>\n",
       "      <td>Investment Banking</td>\n",
       "      <td>2015-09-14 00:00:00+00</td>\n",
       "      <td>2015-09-14 00:00:00+00</td>\n",
       "      <td>NaN</td>\n",
       "      <td>NaN</td>\n",
       "      <td>NaN</td>\n",
       "      <td>NaN</td>\n",
       "      <td>NaN</td>\n",
       "    </tr>\n",
       "    <tr>\n",
       "      <th>1</th>\n",
       "      <td>58329</td>\n",
       "      <td>2015-09-15</td>\n",
       "      <td>Goldman Sachs</td>\n",
       "      <td>552862</td>\n",
       "      <td>38141</td>\n",
       "      <td>https://www.linkedin.com/company/1382</td>\n",
       "      <td>Investment Banking</td>\n",
       "      <td>2015-09-15 00:00:00+00</td>\n",
       "      <td>2015-09-15 00:00:00+00</td>\n",
       "      <td>NaN</td>\n",
       "      <td>NaN</td>\n",
       "      <td>NaN</td>\n",
       "      <td>NaN</td>\n",
       "      <td>NaN</td>\n",
       "    </tr>\n",
       "    <tr>\n",
       "      <th>2</th>\n",
       "      <td>58363</td>\n",
       "      <td>2015-09-16</td>\n",
       "      <td>United Technologies</td>\n",
       "      <td>59157</td>\n",
       "      <td>14982</td>\n",
       "      <td>https://www.linkedin.com/company/2426</td>\n",
       "      <td>Aviation &amp; Aerospace</td>\n",
       "      <td>2015-09-16 00:00:00+00</td>\n",
       "      <td>2015-09-16 00:00:00+00</td>\n",
       "      <td>NaN</td>\n",
       "      <td>NaN</td>\n",
       "      <td>NaN</td>\n",
       "      <td>NaN</td>\n",
       "      <td>NaN</td>\n",
       "    </tr>\n",
       "    <tr>\n",
       "      <th>3</th>\n",
       "      <td>58366</td>\n",
       "      <td>2015-09-16</td>\n",
       "      <td>Novo Nordisk</td>\n",
       "      <td>336175</td>\n",
       "      <td>26448</td>\n",
       "      <td>https://www.linkedin.com/company/2227</td>\n",
       "      <td>Pharmaceuticals</td>\n",
       "      <td>2015-09-16 00:00:00+00</td>\n",
       "      <td>2015-09-16 00:00:00+00</td>\n",
       "      <td>NaN</td>\n",
       "      <td>NaN</td>\n",
       "      <td>NaN</td>\n",
       "      <td>NaN</td>\n",
       "      <td>NaN</td>\n",
       "    </tr>\n",
       "    <tr>\n",
       "      <th>4</th>\n",
       "      <td>58371</td>\n",
       "      <td>2015-09-16</td>\n",
       "      <td>Lowe's Companies, Inc.</td>\n",
       "      <td>134255</td>\n",
       "      <td>62574</td>\n",
       "      <td>https://www.linkedin.com/company/4128</td>\n",
       "      <td>Retail</td>\n",
       "      <td>2015-09-16 00:00:00+00</td>\n",
       "      <td>2015-09-16 00:00:00+00</td>\n",
       "      <td>NaN</td>\n",
       "      <td>NaN</td>\n",
       "      <td>NaN</td>\n",
       "      <td>NaN</td>\n",
       "      <td>NaN</td>\n",
       "    </tr>\n",
       "  </tbody>\n",
       "</table>\n",
       "</div>"
      ],
      "text/plain": [
       "   dataset_id       date            company_name  followers_count  \\\n",
       "0       58329 2015-09-14           Goldman Sachs           552254   \n",
       "1       58329 2015-09-15           Goldman Sachs           552862   \n",
       "2       58363 2015-09-16     United Technologies            59157   \n",
       "3       58366 2015-09-16            Novo Nordisk           336175   \n",
       "4       58371 2015-09-16  Lowe's Companies, Inc.           134255   \n",
       "\n",
       "   employees_on_platform                                   link  \\\n",
       "0                  38124  https://www.linkedin.com/company/1382   \n",
       "1                  38141  https://www.linkedin.com/company/1382   \n",
       "2                  14982  https://www.linkedin.com/company/2426   \n",
       "3                  26448  https://www.linkedin.com/company/2227   \n",
       "4                  62574  https://www.linkedin.com/company/4128   \n",
       "\n",
       "               industry              date_added            date_updated  \\\n",
       "0    Investment Banking  2015-09-14 00:00:00+00  2015-09-14 00:00:00+00   \n",
       "1    Investment Banking  2015-09-15 00:00:00+00  2015-09-15 00:00:00+00   \n",
       "2  Aviation & Aerospace  2015-09-16 00:00:00+00  2015-09-16 00:00:00+00   \n",
       "3       Pharmaceuticals  2015-09-16 00:00:00+00  2015-09-16 00:00:00+00   \n",
       "4                Retail  2015-09-16 00:00:00+00  2015-09-16 00:00:00+00   \n",
       "\n",
       "  description website  entity_id  cusip  isin  \n",
       "0         NaN     NaN        NaN    NaN   NaN  \n",
       "1         NaN     NaN        NaN    NaN   NaN  \n",
       "2         NaN     NaN        NaN    NaN   NaN  \n",
       "3         NaN     NaN        NaN    NaN   NaN  \n",
       "4         NaN     NaN        NaN    NaN   NaN  "
      ]
     },
     "metadata": {},
     "output_type": "display_data"
    }
   ],
   "source": [
    "filename = 'data/temp_datalab_records_linkedin_company.csv'\n",
    "df = pd.read_csv(filename)#, parse_dates=True)#, index_col='DATE')\n",
    "df['as_of_date'] = pd.to_datetime(df['as_of_date'])\n",
    "df.rename(columns={ 'as_of_date': 'date'}, inplace=True)\n",
    "display(df.head())"
   ]
  },
  {
   "cell_type": "code",
   "execution_count": 5,
   "metadata": {},
   "outputs": [
    {
     "name": "stdout",
     "output_type": "stream",
     "text": [
      "2015-09-14 00:00:00\n",
      "2018-07-17 00:00:00\n"
     ]
    },
    {
     "data": {
      "text/plain": [
       "(None, None)"
      ]
     },
     "execution_count": 5,
     "metadata": {},
     "output_type": "execute_result"
    }
   ],
   "source": [
    "# range of the dates\n",
    "print(df['date'].min()), print(df['date'].max())"
   ]
  },
  {
   "cell_type": "markdown",
   "metadata": {},
   "source": [
    "## Increasing Speed of Employee Numbers\n",
    "\n",
    "Let's define the slope as the increasing number of employees per day. We group the data by company names, and find the slope for each company."
   ]
  },
  {
   "cell_type": "code",
   "execution_count": 6,
   "metadata": {},
   "outputs": [
    {
     "data": {
      "text/html": [
       "<div>\n",
       "<style scoped>\n",
       "    .dataframe tbody tr th:only-of-type {\n",
       "        vertical-align: middle;\n",
       "    }\n",
       "\n",
       "    .dataframe tbody tr th {\n",
       "        vertical-align: top;\n",
       "    }\n",
       "\n",
       "    .dataframe thead th {\n",
       "        text-align: right;\n",
       "    }\n",
       "</style>\n",
       "<table border=\"1\" class=\"dataframe\">\n",
       "  <thead>\n",
       "    <tr style=\"text-align: right;\">\n",
       "      <th></th>\n",
       "      <th>slope</th>\n",
       "    </tr>\n",
       "    <tr>\n",
       "      <th>company_name</th>\n",
       "      <th></th>\n",
       "    </tr>\n",
       "  </thead>\n",
       "  <tbody>\n",
       "    <tr>\n",
       "      <th>Hewlett-Packard</th>\n",
       "      <td>527.105346</td>\n",
       "    </tr>\n",
       "    <tr>\n",
       "      <th>Marriott International</th>\n",
       "      <td>238.200121</td>\n",
       "    </tr>\n",
       "    <tr>\n",
       "      <th>Amazon</th>\n",
       "      <td>169.909662</td>\n",
       "    </tr>\n",
       "    <tr>\n",
       "      <th>IBM</th>\n",
       "      <td>169.873137</td>\n",
       "    </tr>\n",
       "    <tr>\n",
       "      <th>Walmart</th>\n",
       "      <td>157.842788</td>\n",
       "    </tr>\n",
       "    <tr>\n",
       "      <th>McDonald's</th>\n",
       "      <td>148.224039</td>\n",
       "    </tr>\n",
       "    <tr>\n",
       "      <th>TOTAL</th>\n",
       "      <td>132.724378</td>\n",
       "    </tr>\n",
       "    <tr>\n",
       "      <th>TechnipFMC</th>\n",
       "      <td>126.321377</td>\n",
       "    </tr>\n",
       "    <tr>\n",
       "      <th>Hilton</th>\n",
       "      <td>123.594599</td>\n",
       "    </tr>\n",
       "    <tr>\n",
       "      <th>Accenture</th>\n",
       "      <td>122.836514</td>\n",
       "    </tr>\n",
       "  </tbody>\n",
       "</table>\n",
       "</div>"
      ],
      "text/plain": [
       "                             slope\n",
       "company_name                      \n",
       "Hewlett-Packard         527.105346\n",
       "Marriott International  238.200121\n",
       "Amazon                  169.909662\n",
       "IBM                     169.873137\n",
       "Walmart                 157.842788\n",
       "McDonald's              148.224039\n",
       "TOTAL                   132.724378\n",
       "TechnipFMC              126.321377\n",
       "Hilton                  123.594599\n",
       "Accenture               122.836514"
      ]
     },
     "metadata": {},
     "output_type": "display_data"
    },
    {
     "data": {
      "text/plain": [
       "<Figure size 432x288 with 0 Axes>"
      ]
     },
     "metadata": {},
     "output_type": "display_data"
    },
    {
     "data": {
      "image/png": "[encoded data removed]",
      "text/plain": [
       "<Figure size 720x360 with 1 Axes>"
      ]
     },
     "metadata": {
      "needs_background": "light"
     },
     "output_type": "display_data"
    }
   ],
   "source": [
    "def slope(x):\n",
    "    if len(x)<2:\n",
    "        return np.nan\n",
    "    x1 = x['date'].values # remove index, since it may not start from 0\n",
    "    x1 = (x1-x1[0]).astype('timedelta64[D]').astype(int)\n",
    "    x2 = x['employees_on_platform'].values\n",
    "    return linregress(x1,x2)[0]\n",
    "\n",
    "df_slope = df.groupby('company_name').apply(lambda x: slope(x))\n",
    "df_slope = pd.DataFrame(df_slope)\n",
    "df_slope.columns = ['slope']\n",
    "df_slope = df_slope.sort_values('slope', ascending=False)\n",
    "display(df_slope.head(10))\n",
    "\n",
    "plt.figure()\n",
    "df_slope.hist(bins = 50, color = 'blue', edgecolor='black',log=True,figsize = (10,5))\n",
    "plt.grid(True)\n",
    "plt.title('Histogram: Increasing Slope of Company Employees')\n",
    "plt.xlabel('Slope')\n",
    "plt.ylabel('Count')\n",
    "plt.tight_layout()\n",
    "plt.show()"
   ]
  },
  {
   "cell_type": "markdown",
   "metadata": {},
   "source": [
    "The 1st slope company Hewlett-Packard has an unbelievable increasing speed:\n",
    "\n",
    "527.105346 employees / day\n",
    "\n",
    "However, if we check the range of the dates for Hewlett-Packard:"
   ]
  },
  {
   "cell_type": "code",
   "execution_count": 7,
   "metadata": {},
   "outputs": [
    {
     "name": "stdout",
     "output_type": "stream",
     "text": [
      "2015-09-16 00:00:00\n",
      "2015-10-26 00:00:00\n"
     ]
    }
   ],
   "source": [
    "print(df[df['company_name'] == 'Hewlett-Packard']['date'].min())\n",
    "print(df[df['company_name'] == 'Hewlett-Packard']['date'].max())"
   ]
  },
  {
   "cell_type": "markdown",
   "metadata": {},
   "source": [
    "We find that it just increased fast in a short period (40 days), so slope may not be a good indicator to find the companies with large expansion.\n",
    "\n",
    "\n",
    "## Number of Increasing Employees\n",
    "\n",
    "Let's increased number of employees from 2015-09-14 to 2018-07-17. We group the data by company names, and find the difference of employee numbers between the last day and the first day. We sort the data by decending order of expansions."
   ]
  },
  {
   "cell_type": "code",
   "execution_count": 8,
   "metadata": {},
   "outputs": [],
   "source": [
    "def expand(x):\n",
    "    if len(x)<2:\n",
    "        return np.nan, np.nan\n",
    "    x1 = x['employees_on_platform'].values\n",
    "    if x1[0] == 0:\n",
    "        return x1[-1], np.nan\n",
    "    expand_num = x1[-1] - x1[0]\n",
    "    expand_ratio = expand_num/x1[0]\n",
    "    return expand_num, expand_ratio\n",
    "\n",
    "df_expand = df.groupby('company_name').apply(lambda x: expand(x))\n",
    "df_expand = pd.DataFrame(df_expand)\n",
    "df_expand.columns = ['expansion']\n",
    "df_expand['expand_num'], df_expand['expand_ratio'] = list(zip(*df_expand['expansion'].values))\n",
    "df_expand.drop(columns=['expansion'], inplace= True)"
   ]
  },
  {
   "cell_type": "code",
   "execution_count": 9,
   "metadata": {},
   "outputs": [
    {
     "data": {
      "text/html": [
       "<div>\n",
       "<style scoped>\n",
       "    .dataframe tbody tr th:only-of-type {\n",
       "        vertical-align: middle;\n",
       "    }\n",
       "\n",
       "    .dataframe tbody tr th {\n",
       "        vertical-align: top;\n",
       "    }\n",
       "\n",
       "    .dataframe thead th {\n",
       "        text-align: right;\n",
       "    }\n",
       "</style>\n",
       "<table border=\"1\" class=\"dataframe\">\n",
       "  <thead>\n",
       "    <tr style=\"text-align: right;\">\n",
       "      <th></th>\n",
       "      <th>expand_num</th>\n",
       "      <th>expand_ratio</th>\n",
       "    </tr>\n",
       "    <tr>\n",
       "      <th>company_name</th>\n",
       "      <th></th>\n",
       "      <th></th>\n",
       "    </tr>\n",
       "  </thead>\n",
       "  <tbody>\n",
       "    <tr>\n",
       "      <th>Walmart</th>\n",
       "      <td>181442.0</td>\n",
       "      <td>0.790146</td>\n",
       "    </tr>\n",
       "    <tr>\n",
       "      <th>Amazon</th>\n",
       "      <td>176769.0</td>\n",
       "      <td>2.087716</td>\n",
       "    </tr>\n",
       "    <tr>\n",
       "      <th>IBM</th>\n",
       "      <td>163813.0</td>\n",
       "      <td>0.395551</td>\n",
       "    </tr>\n",
       "    <tr>\n",
       "      <th>Accenture</th>\n",
       "      <td>122157.0</td>\n",
       "      <td>0.473460</td>\n",
       "    </tr>\n",
       "    <tr>\n",
       "      <th>McDonald's</th>\n",
       "      <td>119906.0</td>\n",
       "      <td>1.160497</td>\n",
       "    </tr>\n",
       "    <tr>\n",
       "      <th>Marriott International</th>\n",
       "      <td>115879.0</td>\n",
       "      <td>1.861959</td>\n",
       "    </tr>\n",
       "    <tr>\n",
       "      <th>Cognizant</th>\n",
       "      <td>85812.0</td>\n",
       "      <td>0.543995</td>\n",
       "    </tr>\n",
       "    <tr>\n",
       "      <th>Ford Motor Company</th>\n",
       "      <td>84251.0</td>\n",
       "      <td>1.024702</td>\n",
       "    </tr>\n",
       "    <tr>\n",
       "      <th>Apple</th>\n",
       "      <td>82126.0</td>\n",
       "      <td>0.790251</td>\n",
       "    </tr>\n",
       "    <tr>\n",
       "      <th>Google</th>\n",
       "      <td>72997.0</td>\n",
       "      <td>1.078529</td>\n",
       "    </tr>\n",
       "  </tbody>\n",
       "</table>\n",
       "</div>"
      ],
      "text/plain": [
       "                        expand_num  expand_ratio\n",
       "company_name                                    \n",
       "Walmart                   181442.0      0.790146\n",
       "Amazon                    176769.0      2.087716\n",
       "IBM                       163813.0      0.395551\n",
       "Accenture                 122157.0      0.473460\n",
       "McDonald's                119906.0      1.160497\n",
       "Marriott International    115879.0      1.861959\n",
       "Cognizant                  85812.0      0.543995\n",
       "Ford Motor Company         84251.0      1.024702\n",
       "Apple                      82126.0      0.790251\n",
       "Google                     72997.0      1.078529"
      ]
     },
     "metadata": {},
     "output_type": "display_data"
    }
   ],
   "source": [
    "df_expand = df_expand.sort_values('expand_num', ascending=False)\n",
    "display(df_expand.head(10))"
   ]
  },
  {
   "cell_type": "code",
   "execution_count": 10,
   "metadata": {},
   "outputs": [
    {
     "data": {
      "text/plain": [
       "<Figure size 432x288 with 0 Axes>"
      ]
     },
     "metadata": {},
     "output_type": "display_data"
    },
    {
     "data": {
      "image/png": "[encoded data removed]",
      "text/plain": [
       "<Figure size 720x360 with 1 Axes>"
      ]
     },
     "metadata": {
      "needs_background": "light"
     },
     "output_type": "display_data"
    }
   ],
   "source": [
    "plt.figure()\n",
    "df_expand[['expand_num']].hist(bins = 50, color = 'blue', edgecolor='black',log=True,figsize = (10,5))\n",
    "plt.grid(True)\n",
    "plt.title('Histogram: Increased Number of Company Employees')\n",
    "plt.xlabel('Increased Number')\n",
    "plt.ylabel('Count')\n",
    "plt.tight_layout()\n",
    "plt.show()"
   ]
  },
  {
   "cell_type": "markdown",
   "metadata": {},
   "source": [
    "Let check the dates range of the 1st company Walmart"
   ]
  },
  {
   "cell_type": "code",
   "execution_count": 11,
   "metadata": {},
   "outputs": [
    {
     "name": "stdout",
     "output_type": "stream",
     "text": [
      "2015-09-16 00:00:00\n",
      "2018-07-17 00:00:00\n"
     ]
    }
   ],
   "source": [
    "print(df[df['company_name'] == 'Walmart']['date'].min())\n",
    "print(df[df['company_name'] == 'Walmart']['date'].max())"
   ]
  },
  {
   "cell_type": "markdown",
   "metadata": {},
   "source": [
    "We find that the date range covers a wide range (~ 3 years), thus we can compare this data with financial data."
   ]
  },
  {
   "cell_type": "code",
   "execution_count": 12,
   "metadata": {},
   "outputs": [
    {
     "data": {
      "text/plain": [
       "array([['Walmart', 'WMT'],\n",
       "       ['Amazon', 'AMZN'],\n",
       "       ['IBM', 'IBM'],\n",
       "       ['Accenture', 'ACN'],\n",
       "       [\"McDonald's\", 'MCD'],\n",
       "       ['Marriott International', 'MAR'],\n",
       "       ['Cognizant', 'CTSH'],\n",
       "       ['Ford Motor Company', 'F'],\n",
       "       ['Apple', 'AAPL'],\n",
       "       ['Google', 'GOOG'],\n",
       "       ['Google', 'GOOGL']], dtype=object)"
      ]
     },
     "execution_count": 12,
     "metadata": {},
     "output_type": "execute_result"
    }
   ],
   "source": [
    "names = df_expand.index[:10]\n",
    "names = np.append(names,names[-1])\n",
    "symbols = np.array(['WMT','AMZN','IBM','ACN','MCD','MAR','CTSH','F','AAPL','GOOG','GOOGL'])\n",
    "\n",
    "np.transpose(np.concatenate(([names], [symbols]), axis=0))"
   ]
  },
  {
   "cell_type": "markdown",
   "metadata": {},
   "source": [
    "Above is the list of top 10 companies and respective stock symbol.\n",
    "\n",
    "Please notice that Google has 2 stocks: GOOG, GOOGL\n",
    "\n",
    "\n",
    "\n",
    "## Compare the Number of Employees and Stock Price for Amazon\n",
    "\n",
    "From the previous result, we found that Amazon has the highest expand ratio among the top 10 expansion companies.\n",
    "\n",
    "Here let's explore the relation between number of employees and stock price for Amazon.\n",
    "\n",
    "We got the stock data of Amazon from Yahoo Finance (https://finance.yahoo.com). We created a data table including the stock price and number of employees on each date."
   ]
  },
  {
   "cell_type": "code",
   "execution_count": 13,
   "metadata": {},
   "outputs": [
    {
     "data": {
      "text/html": [
       "<div>\n",
       "<style scoped>\n",
       "    .dataframe tbody tr th:only-of-type {\n",
       "        vertical-align: middle;\n",
       "    }\n",
       "\n",
       "    .dataframe tbody tr th {\n",
       "        vertical-align: top;\n",
       "    }\n",
       "\n",
       "    .dataframe thead th {\n",
       "        text-align: right;\n",
       "    }\n",
       "</style>\n",
       "<table border=\"1\" class=\"dataframe\">\n",
       "  <thead>\n",
       "    <tr style=\"text-align: right;\">\n",
       "      <th></th>\n",
       "      <th>employees_on_platform</th>\n",
       "      <th>price</th>\n",
       "    </tr>\n",
       "    <tr>\n",
       "      <th>date</th>\n",
       "      <th></th>\n",
       "      <th></th>\n",
       "    </tr>\n",
       "  </thead>\n",
       "  <tbody>\n",
       "    <tr>\n",
       "      <th>2015-09-16</th>\n",
       "      <td>84671</td>\n",
       "      <td>527.390015</td>\n",
       "    </tr>\n",
       "    <tr>\n",
       "      <th>2015-09-17</th>\n",
       "      <td>84716</td>\n",
       "      <td>538.869995</td>\n",
       "    </tr>\n",
       "    <tr>\n",
       "      <th>2015-09-18</th>\n",
       "      <td>84809</td>\n",
       "      <td>540.260010</td>\n",
       "    </tr>\n",
       "    <tr>\n",
       "      <th>2015-09-19</th>\n",
       "      <td>84835</td>\n",
       "      <td>NaN</td>\n",
       "    </tr>\n",
       "    <tr>\n",
       "      <th>2015-09-20</th>\n",
       "      <td>84898</td>\n",
       "      <td>NaN</td>\n",
       "    </tr>\n",
       "  </tbody>\n",
       "</table>\n",
       "</div>"
      ],
      "text/plain": [
       "            employees_on_platform       price\n",
       "date                                         \n",
       "2015-09-16                  84671  527.390015\n",
       "2015-09-17                  84716  538.869995\n",
       "2015-09-18                  84809  540.260010\n",
       "2015-09-19                  84835         NaN\n",
       "2015-09-20                  84898         NaN"
      ]
     },
     "execution_count": 13,
     "metadata": {},
     "output_type": "execute_result"
    }
   ],
   "source": [
    "df1 = df[df['company_name'] == 'Amazon'].copy()\n",
    "df1.set_index('date', inplace = True)\n",
    "\n",
    "filename = 'data/stocks/AMZN.csv'\n",
    "df1_stock = pd.read_csv(filename, parse_dates=True, index_col='Date')\n",
    "df1_stock.head()\n",
    "\n",
    "df1['price'] = df1_stock['Adj Close']\n",
    "df1[['employees_on_platform','price']].head()"
   ]
  },
  {
   "cell_type": "markdown",
   "metadata": {},
   "source": [
    "Notice the stock market is only open on weekdays, so we drop the weekends ( on which the stock prices are NaN ). For the purpose of generalization, we scale the number of employees and stock prices by dividing the first value."
   ]
  },
  {
   "cell_type": "code",
   "execution_count": 15,
   "metadata": {},
   "outputs": [
    {
     "data": {
      "text/plain": [
       "<Figure size 432x288 with 0 Axes>"
      ]
     },
     "metadata": {},
     "output_type": "display_data"
    },
    {
     "data": {
      "image/png": "[encoded data removed]",
      "text/plain": [
       "<Figure size 720x360 with 1 Axes>"
      ]
     },
     "metadata": {
      "needs_background": "light"
     },
     "output_type": "display_data"
    }
   ],
   "source": [
    "df_plot = df1[['employees_on_platform','price']].copy()\n",
    "df_plot.dropna(inplace = True)\n",
    "df_plot = df_plot/df_plot.iloc[0]\n",
    "\n",
    "plt.figure()\n",
    "df_plot.plot(color = ['red','black'], figsize = (10,5))\n",
    "plt.grid(True)\n",
    "plt.legend()\n",
    "plt.title('Number of Employees & Stock Price')\n",
    "plt.xlabel('Date')\n",
    "plt.tight_layout()"
   ]
  },
  {
   "cell_type": "markdown",
   "metadata": {},
   "source": [
    "We can see that the number of employees and stock price of Amazon are correlated quite well. Below is the correlation matrix."
   ]
  },
  {
   "cell_type": "code",
   "execution_count": 16,
   "metadata": {},
   "outputs": [
    {
     "data": {
      "text/plain": [
       "array([[1.        , 0.97369804],\n",
       "       [0.97369804, 1.        ]])"
      ]
     },
     "execution_count": 16,
     "metadata": {},
     "output_type": "execute_result"
    }
   ],
   "source": [
    "np.corrcoef(df_plot['employees_on_platform'].values,df_plot['price'].values)"
   ]
  },
  {
   "cell_type": "markdown",
   "metadata": {},
   "source": [
    "## Find an Indicator for Stock Price\n",
    "High correlation is not enough for a market indicator. Because we want to predict the market price. So let's consider the correlation with lagging days:\n",
    "\n",
    "If the date of indicator before the date of stock, we say lagging days < 0, and high correlation leads to a predictive indicator;\n",
    "\n",
    "If the date of indicator behinds the date of stock, we say lagging days > 0, and high correlation might be useless in this case.\n",
    "\n",
    "\n"
   ]
  },
  {
   "cell_type": "code",
   "execution_count": 18,
   "metadata": {},
   "outputs": [
    {
     "data": {
      "image/png": "[encoded data removed]",
      "text/plain": [
       "<Figure size 432x288 with 1 Axes>"
      ]
     },
     "metadata": {
      "needs_background": "light"
     },
     "output_type": "display_data"
    }
   ],
   "source": [
    "days = np.array([])\n",
    "coefs = np.array([])\n",
    "for i in range(-100,50):\n",
    "    x = df_plot['employees_on_platform'].values\n",
    "    y = df_plot['price'].values\n",
    "    if i < 0: # x front y\n",
    "        x = x[:i]\n",
    "        y = y[-i:]\n",
    "    elif i > 0: # x behind y\n",
    "        x = x[i:]\n",
    "        y = y[:-i]\n",
    "    c = np.corrcoef(x, y)[0,1]\n",
    "    days = np.append(days,i)\n",
    "    coefs = np.append(coefs,c)\n",
    "\n",
    "plt.plot(days,coefs, color = 'black')\n",
    "plt.title('Correlation Coefficients vs Lag Days of Indicator')\n",
    "plt.xlabel('Lagging Days')\n",
    "plt.ylabel('Correlation Coefficients')\n",
    "plt.grid(True)"
   ]
  },
  {
   "cell_type": "code",
   "execution_count": 33,
   "metadata": {},
   "outputs": [
    {
     "name": "stdout",
     "output_type": "stream",
     "text": [
      "Highest correlation coefficients: 0.97972886\n",
      "With Dates difference: -37\n"
     ]
    }
   ],
   "source": [
    "idx = np.argmax(coefs)\n",
    "print('Highest correlation coefficients: %.10g' % coefs[idx])\n",
    "print('With Dates difference: %d' % days[idx] )"
   ]
  },
  {
   "cell_type": "markdown",
   "metadata": {},
   "source": [
    "We can find that the number of employees 37 days ago is a very good indicator for predicting the stock price of Amazon."
   ]
  },
  {
   "cell_type": "code",
   "execution_count": 44,
   "metadata": {},
   "outputs": [
    {
     "name": "stdout",
     "output_type": "stream",
     "text": [
      "Marriott International\n",
      "MAR\n"
     ]
    },
    {
     "data": {
      "text/html": [
       "<div>\n",
       "<style scoped>\n",
       "    .dataframe tbody tr th:only-of-type {\n",
       "        vertical-align: middle;\n",
       "    }\n",
       "\n",
       "    .dataframe tbody tr th {\n",
       "        vertical-align: top;\n",
       "    }\n",
       "\n",
       "    .dataframe thead th {\n",
       "        text-align: right;\n",
       "    }\n",
       "</style>\n",
       "<table border=\"1\" class=\"dataframe\">\n",
       "  <thead>\n",
       "    <tr style=\"text-align: right;\">\n",
       "      <th></th>\n",
       "      <th>employees_on_platform</th>\n",
       "      <th>price</th>\n",
       "    </tr>\n",
       "    <tr>\n",
       "      <th>date</th>\n",
       "      <th></th>\n",
       "      <th></th>\n",
       "    </tr>\n",
       "  </thead>\n",
       "  <tbody>\n",
       "    <tr>\n",
       "      <th>2016-08-20</th>\n",
       "      <td>62235</td>\n",
       "      <td>NaN</td>\n",
       "    </tr>\n",
       "    <tr>\n",
       "      <th>2016-08-21</th>\n",
       "      <td>62303</td>\n",
       "      <td>NaN</td>\n",
       "    </tr>\n",
       "    <tr>\n",
       "      <th>2016-08-22</th>\n",
       "      <td>62327</td>\n",
       "      <td>70.425392</td>\n",
       "    </tr>\n",
       "    <tr>\n",
       "      <th>2016-08-23</th>\n",
       "      <td>62449</td>\n",
       "      <td>70.541130</td>\n",
       "    </tr>\n",
       "    <tr>\n",
       "      <th>2016-08-24</th>\n",
       "      <td>62382</td>\n",
       "      <td>69.914154</td>\n",
       "    </tr>\n",
       "    <tr>\n",
       "      <th>2016-08-25</th>\n",
       "      <td>62240</td>\n",
       "      <td>70.444687</td>\n",
       "    </tr>\n",
       "    <tr>\n",
       "      <th>2016-08-26</th>\n",
       "      <td>62602</td>\n",
       "      <td>70.222839</td>\n",
       "    </tr>\n",
       "    <tr>\n",
       "      <th>2016-08-27</th>\n",
       "      <td>62524</td>\n",
       "      <td>NaN</td>\n",
       "    </tr>\n",
       "    <tr>\n",
       "      <th>2016-08-28</th>\n",
       "      <td>62548</td>\n",
       "      <td>NaN</td>\n",
       "    </tr>\n",
       "    <tr>\n",
       "      <th>2016-08-29</th>\n",
       "      <td>62558</td>\n",
       "      <td>70.492912</td>\n",
       "    </tr>\n",
       "    <tr>\n",
       "      <th>2016-08-30</th>\n",
       "      <td>62599</td>\n",
       "      <td>69.769463</td>\n",
       "    </tr>\n",
       "    <tr>\n",
       "      <th>2016-08-31</th>\n",
       "      <td>62580</td>\n",
       "      <td>68.804871</td>\n",
       "    </tr>\n",
       "    <tr>\n",
       "      <th>2016-09-01</th>\n",
       "      <td>62805</td>\n",
       "      <td>68.611938</td>\n",
       "    </tr>\n",
       "    <tr>\n",
       "      <th>2016-09-02</th>\n",
       "      <td>62623</td>\n",
       "      <td>68.447945</td>\n",
       "    </tr>\n",
       "    <tr>\n",
       "      <th>2016-09-03</th>\n",
       "      <td>62654</td>\n",
       "      <td>NaN</td>\n",
       "    </tr>\n",
       "    <tr>\n",
       "      <th>2016-09-04</th>\n",
       "      <td>62662</td>\n",
       "      <td>NaN</td>\n",
       "    </tr>\n",
       "    <tr>\n",
       "      <th>2016-09-05</th>\n",
       "      <td>62699</td>\n",
       "      <td>NaN</td>\n",
       "    </tr>\n",
       "    <tr>\n",
       "      <th>2016-09-06</th>\n",
       "      <td>62772</td>\n",
       "      <td>67.608757</td>\n",
       "    </tr>\n",
       "    <tr>\n",
       "      <th>2016-09-07</th>\n",
       "      <td>62799</td>\n",
       "      <td>67.907791</td>\n",
       "    </tr>\n",
       "    <tr>\n",
       "      <th>2016-09-08</th>\n",
       "      <td>62863</td>\n",
       "      <td>67.550880</td>\n",
       "    </tr>\n",
       "    <tr>\n",
       "      <th>2016-09-09</th>\n",
       "      <td>62899</td>\n",
       "      <td>64.782486</td>\n",
       "    </tr>\n",
       "    <tr>\n",
       "      <th>2016-09-10</th>\n",
       "      <td>61995</td>\n",
       "      <td>NaN</td>\n",
       "    </tr>\n",
       "    <tr>\n",
       "      <th>2016-09-11</th>\n",
       "      <td>61944</td>\n",
       "      <td>NaN</td>\n",
       "    </tr>\n",
       "    <tr>\n",
       "      <th>2016-09-12</th>\n",
       "      <td>62001</td>\n",
       "      <td>66.383705</td>\n",
       "    </tr>\n",
       "    <tr>\n",
       "      <th>2016-09-13</th>\n",
       "      <td>62054</td>\n",
       "      <td>65.988220</td>\n",
       "    </tr>\n",
       "    <tr>\n",
       "      <th>2016-09-14</th>\n",
       "      <td>61837</td>\n",
       "      <td>66.065392</td>\n",
       "    </tr>\n",
       "    <tr>\n",
       "      <th>2016-09-15</th>\n",
       "      <td>61834</td>\n",
       "      <td>66.837067</td>\n",
       "    </tr>\n",
       "    <tr>\n",
       "      <th>2016-09-16</th>\n",
       "      <td>62113</td>\n",
       "      <td>66.258331</td>\n",
       "    </tr>\n",
       "    <tr>\n",
       "      <th>2016-09-17</th>\n",
       "      <td>62146</td>\n",
       "      <td>NaN</td>\n",
       "    </tr>\n",
       "    <tr>\n",
       "      <th>2016-09-18</th>\n",
       "      <td>62147</td>\n",
       "      <td>NaN</td>\n",
       "    </tr>\n",
       "    <tr>\n",
       "      <th>...</th>\n",
       "      <td>...</td>\n",
       "      <td>...</td>\n",
       "    </tr>\n",
       "    <tr>\n",
       "      <th>2018-06-17</th>\n",
       "      <td>176202</td>\n",
       "      <td>NaN</td>\n",
       "    </tr>\n",
       "    <tr>\n",
       "      <th>2018-06-18</th>\n",
       "      <td>176239</td>\n",
       "      <td>137.284439</td>\n",
       "    </tr>\n",
       "    <tr>\n",
       "      <th>2018-06-19</th>\n",
       "      <td>176357</td>\n",
       "      <td>135.215317</td>\n",
       "    </tr>\n",
       "    <tr>\n",
       "      <th>2018-06-20</th>\n",
       "      <td>176392</td>\n",
       "      <td>134.631210</td>\n",
       "    </tr>\n",
       "    <tr>\n",
       "      <th>2018-06-21</th>\n",
       "      <td>176434</td>\n",
       "      <td>132.393784</td>\n",
       "    </tr>\n",
       "    <tr>\n",
       "      <th>2018-06-22</th>\n",
       "      <td>176522</td>\n",
       "      <td>131.284988</td>\n",
       "    </tr>\n",
       "    <tr>\n",
       "      <th>2018-06-24</th>\n",
       "      <td>176619</td>\n",
       "      <td>NaN</td>\n",
       "    </tr>\n",
       "    <tr>\n",
       "      <th>2018-06-25</th>\n",
       "      <td>176667</td>\n",
       "      <td>127.810059</td>\n",
       "    </tr>\n",
       "    <tr>\n",
       "      <th>2018-06-26</th>\n",
       "      <td>176744</td>\n",
       "      <td>128.136765</td>\n",
       "    </tr>\n",
       "    <tr>\n",
       "      <th>2018-06-27</th>\n",
       "      <td>176785</td>\n",
       "      <td>125.671638</td>\n",
       "    </tr>\n",
       "    <tr>\n",
       "      <th>2018-06-28</th>\n",
       "      <td>176830</td>\n",
       "      <td>124.008423</td>\n",
       "    </tr>\n",
       "    <tr>\n",
       "      <th>2018-06-29</th>\n",
       "      <td>176841</td>\n",
       "      <td>125.335030</td>\n",
       "    </tr>\n",
       "    <tr>\n",
       "      <th>2018-06-30</th>\n",
       "      <td>176896</td>\n",
       "      <td>NaN</td>\n",
       "    </tr>\n",
       "    <tr>\n",
       "      <th>2018-07-01</th>\n",
       "      <td>177002</td>\n",
       "      <td>NaN</td>\n",
       "    </tr>\n",
       "    <tr>\n",
       "      <th>2018-07-02</th>\n",
       "      <td>177015</td>\n",
       "      <td>125.226135</td>\n",
       "    </tr>\n",
       "    <tr>\n",
       "      <th>2018-07-03</th>\n",
       "      <td>177137</td>\n",
       "      <td>123.275810</td>\n",
       "    </tr>\n",
       "    <tr>\n",
       "      <th>2018-07-04</th>\n",
       "      <td>177156</td>\n",
       "      <td>NaN</td>\n",
       "    </tr>\n",
       "    <tr>\n",
       "      <th>2018-07-05</th>\n",
       "      <td>177254</td>\n",
       "      <td>125.226135</td>\n",
       "    </tr>\n",
       "    <tr>\n",
       "      <th>2018-07-06</th>\n",
       "      <td>177344</td>\n",
       "      <td>126.384453</td>\n",
       "    </tr>\n",
       "    <tr>\n",
       "      <th>2018-07-07</th>\n",
       "      <td>177355</td>\n",
       "      <td>NaN</td>\n",
       "    </tr>\n",
       "    <tr>\n",
       "      <th>2018-07-08</th>\n",
       "      <td>177451</td>\n",
       "      <td>NaN</td>\n",
       "    </tr>\n",
       "    <tr>\n",
       "      <th>2018-07-09</th>\n",
       "      <td>177464</td>\n",
       "      <td>128.859467</td>\n",
       "    </tr>\n",
       "    <tr>\n",
       "      <th>2018-07-10</th>\n",
       "      <td>177547</td>\n",
       "      <td>129.423752</td>\n",
       "    </tr>\n",
       "    <tr>\n",
       "      <th>2018-07-11</th>\n",
       "      <td>177665</td>\n",
       "      <td>128.552551</td>\n",
       "    </tr>\n",
       "    <tr>\n",
       "      <th>2018-07-12</th>\n",
       "      <td>177728</td>\n",
       "      <td>129.463379</td>\n",
       "    </tr>\n",
       "    <tr>\n",
       "      <th>2018-07-13</th>\n",
       "      <td>177829</td>\n",
       "      <td>129.700958</td>\n",
       "    </tr>\n",
       "    <tr>\n",
       "      <th>2018-07-14</th>\n",
       "      <td>177776</td>\n",
       "      <td>NaN</td>\n",
       "    </tr>\n",
       "    <tr>\n",
       "      <th>2018-07-15</th>\n",
       "      <td>177971</td>\n",
       "      <td>NaN</td>\n",
       "    </tr>\n",
       "    <tr>\n",
       "      <th>2018-07-16</th>\n",
       "      <td>178022</td>\n",
       "      <td>129.483170</td>\n",
       "    </tr>\n",
       "    <tr>\n",
       "      <th>2018-07-17</th>\n",
       "      <td>178114</td>\n",
       "      <td>129.146561</td>\n",
       "    </tr>\n",
       "  </tbody>\n",
       "</table>\n",
       "<p>693 rows × 2 columns</p>\n",
       "</div>"
      ],
      "text/plain": [
       "            employees_on_platform       price\n",
       "date                                         \n",
       "2016-08-20                  62235         NaN\n",
       "2016-08-21                  62303         NaN\n",
       "2016-08-22                  62327   70.425392\n",
       "2016-08-23                  62449   70.541130\n",
       "2016-08-24                  62382   69.914154\n",
       "2016-08-25                  62240   70.444687\n",
       "2016-08-26                  62602   70.222839\n",
       "2016-08-27                  62524         NaN\n",
       "2016-08-28                  62548         NaN\n",
       "2016-08-29                  62558   70.492912\n",
       "2016-08-30                  62599   69.769463\n",
       "2016-08-31                  62580   68.804871\n",
       "2016-09-01                  62805   68.611938\n",
       "2016-09-02                  62623   68.447945\n",
       "2016-09-03                  62654         NaN\n",
       "2016-09-04                  62662         NaN\n",
       "2016-09-05                  62699         NaN\n",
       "2016-09-06                  62772   67.608757\n",
       "2016-09-07                  62799   67.907791\n",
       "2016-09-08                  62863   67.550880\n",
       "2016-09-09                  62899   64.782486\n",
       "2016-09-10                  61995         NaN\n",
       "2016-09-11                  61944         NaN\n",
       "2016-09-12                  62001   66.383705\n",
       "2016-09-13                  62054   65.988220\n",
       "2016-09-14                  61837   66.065392\n",
       "2016-09-15                  61834   66.837067\n",
       "2016-09-16                  62113   66.258331\n",
       "2016-09-17                  62146         NaN\n",
       "2016-09-18                  62147         NaN\n",
       "...                           ...         ...\n",
       "2018-06-17                 176202         NaN\n",
       "2018-06-18                 176239  137.284439\n",
       "2018-06-19                 176357  135.215317\n",
       "2018-06-20                 176392  134.631210\n",
       "2018-06-21                 176434  132.393784\n",
       "2018-06-22                 176522  131.284988\n",
       "2018-06-24                 176619         NaN\n",
       "2018-06-25                 176667  127.810059\n",
       "2018-06-26                 176744  128.136765\n",
       "2018-06-27                 176785  125.671638\n",
       "2018-06-28                 176830  124.008423\n",
       "2018-06-29                 176841  125.335030\n",
       "2018-06-30                 176896         NaN\n",
       "2018-07-01                 177002         NaN\n",
       "2018-07-02                 177015  125.226135\n",
       "2018-07-03                 177137  123.275810\n",
       "2018-07-04                 177156         NaN\n",
       "2018-07-05                 177254  125.226135\n",
       "2018-07-06                 177344  126.384453\n",
       "2018-07-07                 177355         NaN\n",
       "2018-07-08                 177451         NaN\n",
       "2018-07-09                 177464  128.859467\n",
       "2018-07-10                 177547  129.423752\n",
       "2018-07-11                 177665  128.552551\n",
       "2018-07-12                 177728  129.463379\n",
       "2018-07-13                 177829  129.700958\n",
       "2018-07-14                 177776         NaN\n",
       "2018-07-15                 177971         NaN\n",
       "2018-07-16                 178022  129.483170\n",
       "2018-07-17                 178114  129.146561\n",
       "\n",
       "[693 rows x 2 columns]"
      ]
     },
     "metadata": {},
     "output_type": "display_data"
    }
   ],
   "source": [
    "corrcoefs = np.array([])\n",
    "lag_days =  np.array([])\n",
    "\n",
    "for i in range(len(names)):\n",
    "    name = names[i]\n",
    "    symbol = symbols[i]\n",
    "    \n",
    "    df1 = df[df['company_name'] == name].copy()\n",
    "    df1.set_index('date', inplace = True)\n",
    "\n",
    "    filename = 'data/stocks/'+symbol+'.csv'\n",
    "    df1_stock = pd.read_csv(filename, parse_dates=True, index_col='Date')\n",
    "    df1['price'] = df1_stock['Adj Close']\n",
    "            \n",
    "    df_plot = df1[['employees_on_platform','price']].copy()\n",
    "    df_plot.dropna(inplace = True)\n",
    "    df_plot = df_plot/df_plot.iloc[0]\n",
    "    \n",
    "    days = np.array([])\n",
    "    coefs = np.array([])\n",
    "    for i in range(-100,50):\n",
    "        x = df_plot['employees_on_platform'].values\n",
    "        y = df_plot['price'].values\n",
    "        if i < 0: # x front y\n",
    "            x = x[:i]\n",
    "            y = y[-i:]\n",
    "        elif i > 0: # x behind y\n",
    "            x = x[i:]\n",
    "            y = y[:-i]\n",
    "        c = np.corrcoef(x, y)[0,1]\n",
    "        days = np.append(days,i)\n",
    "        coefs = np.append(coefs,c)\n",
    "    \n",
    "    idx = np.argmax(coefs)\n",
    "    lag_days = np.append(lag_days,days[idx])\n",
    "    corrcoefs = np.append(corrcoefs,coefs[idx])"
   ]
  },
  {
   "cell_type": "code",
   "execution_count": 63,
   "metadata": {},
   "outputs": [
    {
     "data": {
      "image/png": "[encoded data removed]",
      "text/plain": [
       "<Figure size 720x432 with 1 Axes>"
      ]
     },
     "metadata": {
      "needs_background": "light"
     },
     "output_type": "display_data"
    }
   ],
   "source": [
    "plt.figure(figsize = (10,6))\n",
    "for i in range(len(names)):\n",
    "    plt.scatter(lag_days[i], corrcoefs[i], label = names[i])\n",
    "plt.title('Performance Map of Stock Indicators')\n",
    "plt.xlabel('Lagging Days')\n",
    "plt.ylabel('Correlation Coefficients')\n",
    "plt.legend()\n",
    "plt.grid(True)\n",
    "plt.show()"
   ]
  },
  {
   "cell_type": "code",
   "execution_count": null,
   "metadata": {},
   "outputs": [],
   "source": []
  }
 ],
 "metadata": {
  "kernelspec": {
   "display_name": "Python 3",
   "language": "python",
   "name": "python3"
  }
 },
 "nbformat": 4,
 "nbformat_minor": 2
}
